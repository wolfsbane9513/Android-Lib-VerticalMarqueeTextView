{
  "nbformat": 4,
  "nbformat_minor": 0,
  "metadata": {
    "colab": {
      "name": "Data Validation with TensorFlow Data Validation (TFDV).ipynb",
      "provenance": [],
      "collapsed_sections": [],
      "include_colab_link": true
    },
    "kernelspec": {
      "name": "python2",
      "display_name": "Python 2"
    },
    "accelerator": "GPU"
  },
  "cells": [
    {
      "cell_type": "markdown",
      "metadata": {
        "id": "view-in-github",
        "colab_type": "text"
      },
      "source": [
        "<a href=\"https://colab.research.google.com/github/wolfsbane9513/Android-Lib-VerticalMarqueeTextView/blob/master/Data_Validation_with_TensorFlow_Data_Validation_(TFDV).ipynb\" target=\"_parent\"><img src=\"https://colab.research.google.com/assets/colab-badge.svg\" alt=\"Open In Colab\"/></a>"
      ]
    },
    {
      "cell_type": "markdown",
      "metadata": {
        "id": "wf6nxdDBtGN5",
        "colab_type": "text"
      },
      "source": [
        "## Stage 1: Install all dependencies and setting up the environment"
      ]
    },
    {
      "cell_type": "code",
      "metadata": {
        "id": "q8b1TeZBs_2S",
        "colab_type": "code",
        "outputId": "0cbd1ec2-5102-41f8-8f05-71e90f238826",
        "colab": {
          "base_uri": "https://localhost:8080/",
          "height": 119
        }
      },
      "source": [
        "!apt-get install python-dev python-snappy"
      ],
      "execution_count": 1,
      "outputs": [
        {
          "output_type": "stream",
          "text": [
            "Reading package lists... Done\n",
            "Building dependency tree       \n",
            "Reading state information... Done\n",
            "python-dev is already the newest version (2.7.15~rc1-1).\n",
            "python-snappy is already the newest version (0.5-1.1build2).\n",
            "0 upgraded, 0 newly installed, 0 to remove and 25 not upgraded.\n"
          ],
          "name": "stdout"
        }
      ]
    },
    {
      "cell_type": "code",
      "metadata": {
        "id": "7bMUsv3JwU2A",
        "colab_type": "code",
        "colab": {}
      },
      "source": [
        "!pip install -q tensorflow_data_validation"
      ],
      "execution_count": 0,
      "outputs": []
    },
    {
      "cell_type": "markdown",
      "metadata": {
        "id": "FO47q651xVKp",
        "colab_type": "text"
      },
      "source": [
        "## Stage 2: Import project dependencies"
      ]
    },
    {
      "cell_type": "code",
      "metadata": {
        "id": "v15-TQQ4wf4v",
        "colab_type": "code",
        "colab": {
          "base_uri": "https://localhost:8080/",
          "height": 71
        },
        "outputId": "74019b6a-23a8-481d-d28b-93b9813c3233"
      },
      "source": [
        "import pandas as pd\n",
        "import tensorflow as tf\n",
        "import tensorflow_data_validation as tfdv\n",
        "\n",
        "from __future__ import print_function"
      ],
      "execution_count": 3,
      "outputs": [
        {
          "output_type": "stream",
          "text": [
            "/usr/local/lib/python2.7/dist-packages/apache_beam/__init__.py:84: UserWarning: You are using Apache Beam with Python 2. New releases of Apache Beam will soon support Python 3 only.\n",
            "  'You are using Apache Beam with Python 2. '\n"
          ],
          "name": "stderr"
        }
      ]
    },
    {
      "cell_type": "markdown",
      "metadata": {
        "id": "S5LUUynDxvak",
        "colab_type": "text"
      },
      "source": [
        "## Stage 3: Simple dataset analysis"
      ]
    },
    {
      "cell_type": "code",
      "metadata": {
        "id": "v7r7kstFxfRQ",
        "colab_type": "code",
        "colab": {}
      },
      "source": [
        "dataset = pd.read_csv(\"pollution_small.csv\")"
      ],
      "execution_count": 0,
      "outputs": []
    },
    {
      "cell_type": "code",
      "metadata": {
        "id": "Ha53nh-HyqF3",
        "colab_type": "code",
        "outputId": "383fc414-379c-48c1-d03d-4386def778dc",
        "colab": {
          "base_uri": "https://localhost:8080/",
          "height": 34
        }
      },
      "source": [
        "dataset.shape"
      ],
      "execution_count": 5,
      "outputs": [
        {
          "output_type": "execute_result",
          "data": {
            "text/plain": [
              "(2188, 5)"
            ]
          },
          "metadata": {
            "tags": []
          },
          "execution_count": 5
        }
      ]
    },
    {
      "cell_type": "code",
      "metadata": {
        "id": "ej93eK0Aysv4",
        "colab_type": "code",
        "colab": {}
      },
      "source": [
        "training_data = dataset[:1600]"
      ],
      "execution_count": 0,
      "outputs": []
    },
    {
      "cell_type": "code",
      "metadata": {
        "id": "TTZVB628y38P",
        "colab_type": "code",
        "outputId": "47ea009d-092e-4177-f34a-ab865d25bc1d",
        "colab": {
          "base_uri": "https://localhost:8080/",
          "height": 297
        }
      },
      "source": [
        "training_data.describe()"
      ],
      "execution_count": 7,
      "outputs": [
        {
          "output_type": "execute_result",
          "data": {
            "text/plain": [
              "              pm10          no2          so2         soot\n",
              "count  1600.000000  1600.000000  1600.000000  1600.000000\n",
              "mean     49.656494    30.980519    16.229981    21.551956\n",
              "std      35.211906    12.400788    10.621896    12.127354\n",
              "min       6.380000     9.740000     4.010000     6.000000\n",
              "25%      28.345000    22.567500     9.777500    14.400000\n",
              "50%      38.835000    28.715000    13.275000    18.630000\n",
              "75%      58.050000    36.370000    19.282500    24.072500\n",
              "max     277.250000   138.010000   123.130000   107.650000"
            ],
            "text/html": [
              "<div>\n",
              "<style scoped>\n",
              "    .dataframe tbody tr th:only-of-type {\n",
              "        vertical-align: middle;\n",
              "    }\n",
              "\n",
              "    .dataframe tbody tr th {\n",
              "        vertical-align: top;\n",
              "    }\n",
              "\n",
              "    .dataframe thead th {\n",
              "        text-align: right;\n",
              "    }\n",
              "</style>\n",
              "<table border=\"1\" class=\"dataframe\">\n",
              "  <thead>\n",
              "    <tr style=\"text-align: right;\">\n",
              "      <th></th>\n",
              "      <th>pm10</th>\n",
              "      <th>no2</th>\n",
              "      <th>so2</th>\n",
              "      <th>soot</th>\n",
              "    </tr>\n",
              "  </thead>\n",
              "  <tbody>\n",
              "    <tr>\n",
              "      <th>count</th>\n",
              "      <td>1600.000000</td>\n",
              "      <td>1600.000000</td>\n",
              "      <td>1600.000000</td>\n",
              "      <td>1600.000000</td>\n",
              "    </tr>\n",
              "    <tr>\n",
              "      <th>mean</th>\n",
              "      <td>49.656494</td>\n",
              "      <td>30.980519</td>\n",
              "      <td>16.229981</td>\n",
              "      <td>21.551956</td>\n",
              "    </tr>\n",
              "    <tr>\n",
              "      <th>std</th>\n",
              "      <td>35.211906</td>\n",
              "      <td>12.400788</td>\n",
              "      <td>10.621896</td>\n",
              "      <td>12.127354</td>\n",
              "    </tr>\n",
              "    <tr>\n",
              "      <th>min</th>\n",
              "      <td>6.380000</td>\n",
              "      <td>9.740000</td>\n",
              "      <td>4.010000</td>\n",
              "      <td>6.000000</td>\n",
              "    </tr>\n",
              "    <tr>\n",
              "      <th>25%</th>\n",
              "      <td>28.345000</td>\n",
              "      <td>22.567500</td>\n",
              "      <td>9.777500</td>\n",
              "      <td>14.400000</td>\n",
              "    </tr>\n",
              "    <tr>\n",
              "      <th>50%</th>\n",
              "      <td>38.835000</td>\n",
              "      <td>28.715000</td>\n",
              "      <td>13.275000</td>\n",
              "      <td>18.630000</td>\n",
              "    </tr>\n",
              "    <tr>\n",
              "      <th>75%</th>\n",
              "      <td>58.050000</td>\n",
              "      <td>36.370000</td>\n",
              "      <td>19.282500</td>\n",
              "      <td>24.072500</td>\n",
              "    </tr>\n",
              "    <tr>\n",
              "      <th>max</th>\n",
              "      <td>277.250000</td>\n",
              "      <td>138.010000</td>\n",
              "      <td>123.130000</td>\n",
              "      <td>107.650000</td>\n",
              "    </tr>\n",
              "  </tbody>\n",
              "</table>\n",
              "</div>"
            ]
          },
          "metadata": {
            "tags": []
          },
          "execution_count": 7
        }
      ]
    },
    {
      "cell_type": "code",
      "metadata": {
        "id": "lNepyJ0gy9IZ",
        "colab_type": "code",
        "colab": {}
      },
      "source": [
        "test_set = dataset[1600:]"
      ],
      "execution_count": 0,
      "outputs": []
    },
    {
      "cell_type": "code",
      "metadata": {
        "id": "O9zmE9FEzgOH",
        "colab_type": "code",
        "outputId": "b70653c2-8eb2-4ceb-82cf-235621b27af7",
        "colab": {
          "base_uri": "https://localhost:8080/",
          "height": 297
        }
      },
      "source": [
        "test_set.describe()"
      ],
      "execution_count": 9,
      "outputs": [
        {
          "output_type": "execute_result",
          "data": {
            "text/plain": [
              "             pm10         no2         so2        soot\n",
              "count  588.000000  588.000000  588.000000  588.000000\n",
              "mean    44.648248   37.296922   13.605170   18.441310\n",
              "std     28.992087   10.940050    5.098944    6.596459\n",
              "min     11.900000   15.070000    4.990000    8.000000\n",
              "25%     28.337500   29.217500   10.122500   14.410000\n",
              "50%     35.555000   35.815000   12.345000   17.090000\n",
              "75%     50.812500   43.872500   15.855000   20.962500\n",
              "max    273.770000  106.030000   38.030000   87.210000"
            ],
            "text/html": [
              "<div>\n",
              "<style scoped>\n",
              "    .dataframe tbody tr th:only-of-type {\n",
              "        vertical-align: middle;\n",
              "    }\n",
              "\n",
              "    .dataframe tbody tr th {\n",
              "        vertical-align: top;\n",
              "    }\n",
              "\n",
              "    .dataframe thead th {\n",
              "        text-align: right;\n",
              "    }\n",
              "</style>\n",
              "<table border=\"1\" class=\"dataframe\">\n",
              "  <thead>\n",
              "    <tr style=\"text-align: right;\">\n",
              "      <th></th>\n",
              "      <th>pm10</th>\n",
              "      <th>no2</th>\n",
              "      <th>so2</th>\n",
              "      <th>soot</th>\n",
              "    </tr>\n",
              "  </thead>\n",
              "  <tbody>\n",
              "    <tr>\n",
              "      <th>count</th>\n",
              "      <td>588.000000</td>\n",
              "      <td>588.000000</td>\n",
              "      <td>588.000000</td>\n",
              "      <td>588.000000</td>\n",
              "    </tr>\n",
              "    <tr>\n",
              "      <th>mean</th>\n",
              "      <td>44.648248</td>\n",
              "      <td>37.296922</td>\n",
              "      <td>13.605170</td>\n",
              "      <td>18.441310</td>\n",
              "    </tr>\n",
              "    <tr>\n",
              "      <th>std</th>\n",
              "      <td>28.992087</td>\n",
              "      <td>10.940050</td>\n",
              "      <td>5.098944</td>\n",
              "      <td>6.596459</td>\n",
              "    </tr>\n",
              "    <tr>\n",
              "      <th>min</th>\n",
              "      <td>11.900000</td>\n",
              "      <td>15.070000</td>\n",
              "      <td>4.990000</td>\n",
              "      <td>8.000000</td>\n",
              "    </tr>\n",
              "    <tr>\n",
              "      <th>25%</th>\n",
              "      <td>28.337500</td>\n",
              "      <td>29.217500</td>\n",
              "      <td>10.122500</td>\n",
              "      <td>14.410000</td>\n",
              "    </tr>\n",
              "    <tr>\n",
              "      <th>50%</th>\n",
              "      <td>35.555000</td>\n",
              "      <td>35.815000</td>\n",
              "      <td>12.345000</td>\n",
              "      <td>17.090000</td>\n",
              "    </tr>\n",
              "    <tr>\n",
              "      <th>75%</th>\n",
              "      <td>50.812500</td>\n",
              "      <td>43.872500</td>\n",
              "      <td>15.855000</td>\n",
              "      <td>20.962500</td>\n",
              "    </tr>\n",
              "    <tr>\n",
              "      <th>max</th>\n",
              "      <td>273.770000</td>\n",
              "      <td>106.030000</td>\n",
              "      <td>38.030000</td>\n",
              "      <td>87.210000</td>\n",
              "    </tr>\n",
              "  </tbody>\n",
              "</table>\n",
              "</div>"
            ]
          },
          "metadata": {
            "tags": []
          },
          "execution_count": 9
        }
      ]
    },
    {
      "cell_type": "markdown",
      "metadata": {
        "id": "iGqBm9LZzyqi",
        "colab_type": "text"
      },
      "source": [
        "## Stage 3: Data analysis and validation with TFDV"
      ]
    },
    {
      "cell_type": "markdown",
      "metadata": {
        "id": "wAVQXEGG0RKH",
        "colab_type": "text"
      },
      "source": [
        "### Generate training data statistics"
      ]
    },
    {
      "cell_type": "code",
      "metadata": {
        "id": "WByxycNeziDA",
        "colab_type": "code",
        "colab": {
          "base_uri": "https://localhost:8080/",
          "height": 71
        },
        "outputId": "8c355e7f-9b13-4bb0-8deb-c54617b0d4ac"
      },
      "source": [
        "train_stats = tfdv.generate_statistics_from_dataframe(dataframe=dataset)"
      ],
      "execution_count": 10,
      "outputs": [
        {
          "output_type": "stream",
          "text": [
            "/usr/local/lib/python2.7/dist-packages/tensorflow_data_validation/arrow/arrow_util.py:236: FutureWarning: Calling .data on ChunkedArray is provided for compatibility after Column was removed, simply drop this attribute\n",
            "  types.FeaturePath([column_name]), column.data.chunk(0), weights):\n"
          ],
          "name": "stderr"
        }
      ]
    },
    {
      "cell_type": "markdown",
      "metadata": {
        "id": "BitwkaZ00_iL",
        "colab_type": "text"
      },
      "source": [
        "### Infering the schema"
      ]
    },
    {
      "cell_type": "code",
      "metadata": {
        "id": "26We0ahE1CKP",
        "colab_type": "code",
        "colab": {}
      },
      "source": [
        "schema = tfdv.infer_schema(statistics=train_stats)"
      ],
      "execution_count": 0,
      "outputs": []
    },
    {
      "cell_type": "code",
      "metadata": {
        "id": "2ZHnaOxg24t3",
        "colab_type": "code",
        "outputId": "97dd50de-b5f3-4311-9bd9-34f7d67df1ec",
        "colab": {
          "base_uri": "https://localhost:8080/",
          "height": 235
        }
      },
      "source": [
        "tfdv.display_schema(schema)"
      ],
      "execution_count": 12,
      "outputs": [
        {
          "output_type": "display_data",
          "data": {
            "text/plain": [
              "               Type  Presence Valency Domain\n",
              "Feature name                                \n",
              "'soot'        FLOAT  required              -\n",
              "'no2'         FLOAT  required              -\n",
              "'pm10'        FLOAT  required              -\n",
              "'Date'        BYTES  required              -\n",
              "'so2'         FLOAT  required              -"
            ],
            "text/html": [
              "<div>\n",
              "<style scoped>\n",
              "    .dataframe tbody tr th:only-of-type {\n",
              "        vertical-align: middle;\n",
              "    }\n",
              "\n",
              "    .dataframe tbody tr th {\n",
              "        vertical-align: top;\n",
              "    }\n",
              "\n",
              "    .dataframe thead th {\n",
              "        text-align: right;\n",
              "    }\n",
              "</style>\n",
              "<table border=\"1\" class=\"dataframe\">\n",
              "  <thead>\n",
              "    <tr style=\"text-align: right;\">\n",
              "      <th></th>\n",
              "      <th>Type</th>\n",
              "      <th>Presence</th>\n",
              "      <th>Valency</th>\n",
              "      <th>Domain</th>\n",
              "    </tr>\n",
              "    <tr>\n",
              "      <th>Feature name</th>\n",
              "      <th></th>\n",
              "      <th></th>\n",
              "      <th></th>\n",
              "      <th></th>\n",
              "    </tr>\n",
              "  </thead>\n",
              "  <tbody>\n",
              "    <tr>\n",
              "      <th>'soot'</th>\n",
              "      <td>FLOAT</td>\n",
              "      <td>required</td>\n",
              "      <td></td>\n",
              "      <td>-</td>\n",
              "    </tr>\n",
              "    <tr>\n",
              "      <th>'no2'</th>\n",
              "      <td>FLOAT</td>\n",
              "      <td>required</td>\n",
              "      <td></td>\n",
              "      <td>-</td>\n",
              "    </tr>\n",
              "    <tr>\n",
              "      <th>'pm10'</th>\n",
              "      <td>FLOAT</td>\n",
              "      <td>required</td>\n",
              "      <td></td>\n",
              "      <td>-</td>\n",
              "    </tr>\n",
              "    <tr>\n",
              "      <th>'Date'</th>\n",
              "      <td>BYTES</td>\n",
              "      <td>required</td>\n",
              "      <td></td>\n",
              "      <td>-</td>\n",
              "    </tr>\n",
              "    <tr>\n",
              "      <th>'so2'</th>\n",
              "      <td>FLOAT</td>\n",
              "      <td>required</td>\n",
              "      <td></td>\n",
              "      <td>-</td>\n",
              "    </tr>\n",
              "  </tbody>\n",
              "</table>\n",
              "</div>"
            ]
          },
          "metadata": {
            "tags": []
          }
        }
      ]
    },
    {
      "cell_type": "markdown",
      "metadata": {
        "id": "uWtUFaJQ3Tuc",
        "colab_type": "text"
      },
      "source": [
        "### Calculate test set statistics"
      ]
    },
    {
      "cell_type": "code",
      "metadata": {
        "id": "ok3jQTVt2-zI",
        "colab_type": "code",
        "colab": {}
      },
      "source": [
        "test_stats = tfdv.generate_statistics_from_dataframe(dataframe=test_set)"
      ],
      "execution_count": 0,
      "outputs": []
    },
    {
      "cell_type": "markdown",
      "metadata": {
        "id": "6BnDXqiz3vy6",
        "colab_type": "text"
      },
      "source": [
        "## Stage 4: Compare test statistics with the Schema"
      ]
    },
    {
      "cell_type": "markdown",
      "metadata": {
        "id": "kWlDe6VJ37ko",
        "colab_type": "text"
      },
      "source": [
        "### Checking for anomalies in new data"
      ]
    },
    {
      "cell_type": "code",
      "metadata": {
        "id": "UAfRZBnL3qx3",
        "colab_type": "code",
        "colab": {}
      },
      "source": [
        "anomalies = tfdv.validate_statistics(statistics=test_stats, schema=schema)"
      ],
      "execution_count": 0,
      "outputs": []
    },
    {
      "cell_type": "markdown",
      "metadata": {
        "id": "shY10N0N3_DD",
        "colab_type": "text"
      },
      "source": [
        "### Displaying all detected anomalies\n",
        "\n",
        "- Integer larger than 10\n",
        "- STRING type when expected INT type\n",
        "- FLOAT type when expected INT type\n",
        "- Integer smaller than 0"
      ]
    },
    {
      "cell_type": "code",
      "metadata": {
        "id": "pexizEYr4Bqn",
        "colab_type": "code",
        "outputId": "665f7507-2ed1-406c-f5cb-db7269b4b508",
        "colab": {
          "base_uri": "https://localhost:8080/",
          "height": 57
        }
      },
      "source": [
        "tfdv.display_anomalies(anomalies)"
      ],
      "execution_count": 16,
      "outputs": [
        {
          "output_type": "display_data",
          "data": {
            "text/plain": [
              "<IPython.core.display.HTML object>"
            ],
            "text/html": [
              "<h4 style=\"color:green;\">No anomalies found.</h4>"
            ]
          },
          "metadata": {
            "tags": []
          }
        }
      ]
    },
    {
      "cell_type": "markdown",
      "metadata": {
        "id": "2aWeFdYQ4Cb5",
        "colab_type": "text"
      },
      "source": [
        "### New data WITH anomalies"
      ]
    },
    {
      "cell_type": "code",
      "metadata": {
        "id": "PQoDCrd04HK2",
        "colab_type": "code",
        "colab": {}
      },
      "source": [
        "test_set_copy = test_set.copy()"
      ],
      "execution_count": 0,
      "outputs": []
    },
    {
      "cell_type": "code",
      "metadata": {
        "id": "tldZL65465hm",
        "colab_type": "code",
        "colab": {}
      },
      "source": [
        "test_set_copy.drop(\"soot\", axis=1, inplace=True)"
      ],
      "execution_count": 0,
      "outputs": []
    },
    {
      "cell_type": "markdown",
      "metadata": {
        "id": "O6AbhtEY4Hp-",
        "colab_type": "text"
      },
      "source": [
        "### Statistics based on data with anomalies"
      ]
    },
    {
      "cell_type": "code",
      "metadata": {
        "id": "DNXMz0gD4Skv",
        "colab_type": "code",
        "colab": {}
      },
      "source": [
        "test_set_copy_stats = tfdv.generate_statistics_from_dataframe(dataframe=test_set_copy)"
      ],
      "execution_count": 0,
      "outputs": []
    },
    {
      "cell_type": "code",
      "metadata": {
        "id": "wJQS09K17XKf",
        "colab_type": "code",
        "colab": {}
      },
      "source": [
        "anomalies_new = tfdv.validate_statistics(statistics=test_set_copy_stats, schema=schema)"
      ],
      "execution_count": 0,
      "outputs": []
    },
    {
      "cell_type": "code",
      "metadata": {
        "id": "texSxcnO7h8Q",
        "colab_type": "code",
        "outputId": "c4c51ce6-fe16-42c8-aae9-fb178eef3e2c",
        "colab": {
          "base_uri": "https://localhost:8080/",
          "height": 111
        }
      },
      "source": [
        "tfdv.display_anomalies(anomalies_new)"
      ],
      "execution_count": 21,
      "outputs": [
        {
          "output_type": "display_data",
          "data": {
            "text/plain": [
              "             Anomaly short description      Anomaly long description\n",
              "Feature name                                                        \n",
              "'soot'        Column dropped            Column is completely missing"
            ],
            "text/html": [
              "<div>\n",
              "<style scoped>\n",
              "    .dataframe tbody tr th:only-of-type {\n",
              "        vertical-align: middle;\n",
              "    }\n",
              "\n",
              "    .dataframe tbody tr th {\n",
              "        vertical-align: top;\n",
              "    }\n",
              "\n",
              "    .dataframe thead th {\n",
              "        text-align: right;\n",
              "    }\n",
              "</style>\n",
              "<table border=\"1\" class=\"dataframe\">\n",
              "  <thead>\n",
              "    <tr style=\"text-align: right;\">\n",
              "      <th></th>\n",
              "      <th>Anomaly short description</th>\n",
              "      <th>Anomaly long description</th>\n",
              "    </tr>\n",
              "    <tr>\n",
              "      <th>Feature name</th>\n",
              "      <th></th>\n",
              "      <th></th>\n",
              "    </tr>\n",
              "  </thead>\n",
              "  <tbody>\n",
              "    <tr>\n",
              "      <th>'soot'</th>\n",
              "      <td>Column dropped</td>\n",
              "      <td>Column is completely missing</td>\n",
              "    </tr>\n",
              "  </tbody>\n",
              "</table>\n",
              "</div>"
            ]
          },
          "metadata": {
            "tags": []
          }
        }
      ]
    },
    {
      "cell_type": "markdown",
      "metadata": {
        "id": "IlrBt63h7_UB",
        "colab_type": "text"
      },
      "source": [
        "## Stage 5: Prepare the schema for Serving"
      ]
    },
    {
      "cell_type": "code",
      "metadata": {
        "id": "MgWLB_TW8Epa",
        "colab_type": "code",
        "colab": {}
      },
      "source": [
        "schema.default_environment.append(\"TRAINING\")\n",
        "schema.default_environment.append(\"SERVING\")"
      ],
      "execution_count": 0,
      "outputs": []
    },
    {
      "cell_type": "markdown",
      "metadata": {
        "id": "BSuPxRpr8Cxg",
        "colab_type": "text"
      },
      "source": [
        "### Removing a target column from the Serving schema"
      ]
    },
    {
      "cell_type": "code",
      "metadata": {
        "id": "8_H9a7WD7l3A",
        "colab_type": "code",
        "colab": {}
      },
      "source": [
        "tfdv.get_feature(schema, \"soot\").not_in_environment.append(\"SERVING\")"
      ],
      "execution_count": 0,
      "outputs": []
    },
    {
      "cell_type": "markdown",
      "metadata": {
        "id": "QonMtSXb8KWY",
        "colab_type": "text"
      },
      "source": [
        "### Checking for anomalies between the SERVING environment and new test set"
      ]
    },
    {
      "cell_type": "code",
      "metadata": {
        "id": "ZXdZ9tk58Rh_",
        "colab_type": "code",
        "colab": {}
      },
      "source": [
        "serving_env_anomalies = tfdv.validate_statistics(test_set_copy_stats, schema, environment=\"SERVING\")"
      ],
      "execution_count": 0,
      "outputs": []
    },
    {
      "cell_type": "code",
      "metadata": {
        "id": "05jDXv8o_J0O",
        "colab_type": "code",
        "outputId": "e568079a-d406-4a71-91f0-de1ba68aade1",
        "colab": {
          "base_uri": "https://localhost:8080/",
          "height": 57
        }
      },
      "source": [
        "tfdv.display_anomalies(serving_env_anomalies)"
      ],
      "execution_count": 25,
      "outputs": [
        {
          "output_type": "display_data",
          "data": {
            "text/plain": [
              "<IPython.core.display.HTML object>"
            ],
            "text/html": [
              "<h4 style=\"color:green;\">No anomalies found.</h4>"
            ]
          },
          "metadata": {
            "tags": []
          }
        }
      ]
    },
    {
      "cell_type": "code",
      "metadata": {
        "id": "dkhouxmGubn8",
        "colab_type": "code",
        "colab": {}
      },
      "source": [
        "tfdv.write_schema_text(schema=schema,output_path=\"pollution_schema.pbtxt\")"
      ],
      "execution_count": 0,
      "outputs": []
    }
  ]
}